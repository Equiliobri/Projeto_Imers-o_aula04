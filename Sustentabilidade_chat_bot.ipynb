{
  "nbformat": 4,
  "nbformat_minor": 0,
  "metadata": {
    "colab": {
      "provenance": [],
      "authorship_tag": "ABX9TyNxfDMvLXTXqKJKVk0V7BKo",
      "include_colab_link": true
    },
    "kernelspec": {
      "name": "python3",
      "display_name": "Python 3"
    },
    "language_info": {
      "name": "python"
    }
  },
  "cells": [
    {
      "cell_type": "markdown",
      "metadata": {
        "id": "view-in-github",
        "colab_type": "text"
      },
      "source": [
        "<a href=\"https://colab.research.google.com/github/Equiliobri/Projeto_Imers-o_aula04/blob/main/Sustentabilidade_chat_bot.ipynb\" target=\"_parent\"><img src=\"https://colab.research.google.com/assets/colab-badge.svg\" alt=\"Open In Colab\"/></a>"
      ]
    },
    {
      "cell_type": "markdown",
      "source": [
        "Instalando o SDK do goolge"
      ],
      "metadata": {
        "id": "I_ls7cFU0q7S"
      }
    },
    {
      "cell_type": "code",
      "execution_count": 1,
      "metadata": {
        "id": "yQ0Wi0Q4wtT3"
      },
      "outputs": [],
      "source": [
        "!pip install -q -U google-generativeai"
      ]
    },
    {
      "cell_type": "code",
      "source": [
        "import google.generativeai as genai\n",
        "\n",
        "from google.colab import userdate\n",
        "api_key = userdata.get('chave_google')\n",
        "genai.configure(api_key=api_key)"
      ],
      "metadata": {
        "id": "csSWQxnd0-Du"
      },
      "execution_count": 2,
      "outputs": []
    },
    {
      "cell_type": "code",
      "source": [
        "for m in genai.list_models():\n",
        "  if 'generateContent' in m.supported_generation_methods:\n",
        "    print(m.name)"
      ],
      "metadata": {
        "colab": {
          "base_uri": "https://localhost:8080/",
          "height": 139
        },
        "id": "79mYVcwo2Zn-",
        "outputId": "f27490e8-323d-42b2-9271-ff7080439cb3"
      },
      "execution_count": 4,
      "outputs": [
        {
          "output_type": "stream",
          "name": "stdout",
          "text": [
            "models/gemini-1.0-pro\n",
            "models/gemini-1.0-pro-001\n",
            "models/gemini-1.0-pro-latest\n",
            "models/gemini-1.0-pro-vision-latest\n",
            "models/gemini-1.5-pro-latest\n",
            "models/gemini-pro\n",
            "models/gemini-pro-vision\n"
          ]
        }
      ]
    },
    {
      "cell_type": "code",
      "source": [
        "generation_config = {\n",
        "    \"candidate_count\": 1,\n",
        "    \"temperature\": 0.5,\n",
        "}"
      ],
      "metadata": {
        "id": "NpIbn8zC4NZm"
      },
      "execution_count": 5,
      "outputs": []
    },
    {
      "cell_type": "markdown",
      "source": [],
      "metadata": {
        "id": "HVAVlPhJwueT"
      }
    },
    {
      "cell_type": "code",
      "source": [
        "safety_settings = {\n",
        "    \"HARASSMENT\": \"BLOCK_NONE\",\n",
        "    \"HATE\": \"BLOCK_NONE\",\n",
        "    \"SEXUAL\": \"BLOCK_NONE\",\n",
        "    \"DANGEROUS\": \"BLOCK_NONE\",\n",
        "}\n"
      ],
      "metadata": {
        "id": "qmI5lbbS4xwJ"
      },
      "execution_count": 13,
      "outputs": []
    },
    {
      "cell_type": "markdown",
      "source": [
        "\n",
        "Inicializando o modelo\n",
        "\n"
      ],
      "metadata": {
        "id": "rM0zqefZ63sc"
      }
    },
    {
      "cell_type": "code",
      "source": [
        "model = genai.GenerativeModel(model_name=\"gemini-1.0-pro\",\n",
        "                              generation_config=generation_config,\n",
        "                              safety_settings=safety_settings)"
      ],
      "metadata": {
        "id": "H_8HUZOT5Xnp"
      },
      "execution_count": 14,
      "outputs": []
    },
    {
      "cell_type": "code",
      "source": [
        "response = model.generate_content (\"haja como um engenheiro ambiental e crie uma campanha para conscientização do ser humano com relação ao hábitos sustentáveis para que não ocorra os desastres naturais que estamos vivendo em 2024 e enfatize que o não cumprimento destes hábitos prejudicará as próximas gerações e explique os eventos prejudiciais.\")\n",
        "print(response.text)"
      ],
      "metadata": {
        "colab": {
          "base_uri": "https://localhost:8080/",
          "height": 627
        },
        "id": "oT6lPRr58R2t",
        "outputId": "564ae699-2a8b-4c12-ff10-653bc966a980"
      },
      "execution_count": 16,
      "outputs": [
        {
          "output_type": "stream",
          "name": "stdout",
          "text": [
            "**Campanha de Conscientização: Hábitos Sustentáveis para um Futuro Seguro**\n",
            "\n",
            "**Introdução**\n",
            "\n",
            "Como engenheiro ambiental, testemunhei em primeira mão os efeitos devastadores dos desastres naturais que assolam nosso planeta. Inundações, secas, incêndios florestais e furacões estão se tornando mais frequentes e intensos, ameaçando nossas comunidades e meios de subsistência.\n",
            "\n",
            "Esses eventos são um alerta claro de que nossas ações estão tendo um impacto negativo em nosso meio ambiente. Os hábitos insustentáveis que adotamos estão contribuindo para as mudanças climáticas, levando a consequências catastróficas.\n",
            "\n",
            "**Hábitos Sustentáveis**\n",
            "\n",
            "Para evitar mais desastres naturais e proteger as gerações futuras, é essencial que adotemos hábitos sustentáveis. Isso inclui:\n",
            "\n",
            "* **Reduzir o consumo de energia:** Desligue as luzes quando sair de uma sala, use aparelhos eficientes e opte por fontes de energia renováveis.\n",
            "* **Conservar água:** Tome banhos mais curtos, conserte vazamentos e use sistemas de irrigação eficientes.\n",
            "* **Reciclar e reduzir o desperdício:** Separe materiais recicláveis, reduza o consumo de plástico e compostos resíduos orgânicos.\n",
            "* **Usar transporte sustentável:** Caminhe, ande de bicicleta ou use transporte público sempre que possível.\n",
            "* **Apoiar empresas sustentáveis:** Escolha produtos e serviços de empresas que priorizam práticas ambientais responsáveis.\n",
            "\n",
            "**Eventos Prejudiciais**\n",
            "\n",
            "O não cumprimento desses hábitos sustentáveis terá consequências prejudiciais para as próximas gerações, incluindo:\n",
            "\n",
            "* **Aumento dos desastres naturais:** As mudanças climáticas continuarão a intensificar os desastres naturais, levando a mais perdas de vidas, danos à propriedade e deslocamentos.\n",
            "* **Escassez de recursos:** A degradação ambiental e as mudanças climáticas podem levar à escassez de água, alimentos e outros recursos essenciais.\n",
            "* **Problemas de saúde:** A poluição do ar e da água pode causar problemas respiratórios, doenças cardiovasculares e outros problemas de saúde.\n",
            "* **Perda de biodiversidade:** Os hábitos insustentáveis estão levando à perda de habitats e à extinção de espécies, prejudicando o equilíbrio ecológico do planeta.\n",
            "\n",
            "**Conclusão**\n",
            "\n",
            "O futuro do nosso planeta e das gerações futuras depende de nossas ações hoje. Ao adotar hábitos sustentáveis, podemos reduzir nosso impacto no meio ambiente, mitigar os efeitos das mudanças climáticas e criar um futuro mais seguro e próspero para todos.\n",
            "\n",
            "Junte-se a nós nesta campanha de conscientização e torne-se um agente de mudança. Vamos trabalhar juntos para proteger nosso planeta e garantir um futuro sustentável para as gerações vindouras.\n",
            "\n",
            "**#HábitosSustentáveis #FuturoSeguro #ProtejaNossoPlaneta**\n"
          ]
        }
      ]
    },
    {
      "cell_type": "code",
      "source": [
        "chat = model.start_chat(history=[])"
      ],
      "metadata": {
        "id": "0JoL9sS09IWi"
      },
      "execution_count": 17,
      "outputs": []
    },
    {
      "cell_type": "code",
      "source": [
        "prompt = input(\"Esperando prompt: \")\n",
        "while prompt != \"fim\":\n",
        "  response = chat.send_message(prompt)\n",
        "  print(\"Resposta> \", response.text, \"\\n\")\n",
        "  prompt = input(\"Esperando prompt: \")"
      ],
      "metadata": {
        "colab": {
          "base_uri": "https://localhost:8080/",
          "height": 957
        },
        "id": "0tpKsAYQ9eQc",
        "outputId": "ff706257-346e-492a-acd5-4cddc36e911d"
      },
      "execution_count": 18,
      "outputs": [
        {
          "name": "stdout",
          "output_type": "stream",
          "text": [
            "Esperando prompt: Qual é a principal ação sustentável?\n",
            "Resposta>  Reduzir a pegada de carbono \n",
            "\n",
            "Esperando prompt: Quais os principais responsáveis por esta ação?\n",
            "Resposta>  * Indivíduos\n",
            "* Empresas\n",
            "* Governos\n",
            "* Organizações sem fins lucrativos \n",
            "\n",
            "Esperando prompt: Para que mora no Brasil, como é o comportamento cultural das pessoas referente a sustentabilidade?\n",
            "Resposta>  O comportamento cultural das pessoas no Brasil em relação à sustentabilidade é complexo e varia de acordo com fatores como região, nível socioeconômico e nível de educação. No entanto, algumas tendências gerais podem ser observadas:\n",
            "\n",
            "* **Alta conscientização:** Os brasileiros estão cada vez mais conscientes dos problemas ambientais e da importância da sustentabilidade. Pesquisas mostram que a maioria dos brasileiros acredita que as mudanças climáticas são reais e que é importante tomar medidas para proteger o meio ambiente.\n",
            "* **Comportamentos individuais:** Muitos brasileiros estão adotando comportamentos sustentáveis em suas vidas diárias, como reciclagem, redução do consumo de energia e água, e uso de transporte público. No entanto, ainda há espaço para melhorias, especialmente em áreas como redução do consumo de carne e uso de produtos reutilizáveis.\n",
            "* **Atitudes em relação às empresas:** Os brasileiros estão cada vez mais exigindo que as empresas sejam sustentáveis em suas práticas. Eles estão mais propensos a comprar produtos e serviços de empresas que têm um histórico comprovado de responsabilidade ambiental.\n",
            "* **Papel do governo:** O governo brasileiro tem desempenhado um papel importante na promoção da sustentabilidade. O país tem uma série de políticas e programas voltados para a proteção ambiental, incluindo o Código Florestal Brasileiro e o Programa Nacional de Biocombustíveis.\n",
            "* **Desafios:** Apesar do progresso, o Brasil ainda enfrenta desafios significativos em termos de sustentabilidade. Estes incluem desmatamento, poluição e mudanças climáticas. Além disso, a desigualdade social e econômica pode dificultar a implementação de práticas sustentáveis para todos os brasileiros.\n",
            "\n",
            "Em geral, o comportamento cultural das pessoas no Brasil em relação à sustentabilidade está evoluindo positivamente. No entanto, ainda há muito trabalho a ser feito para tornar o país verdadeiramente sustentável. \n",
            "\n",
            "Esperando prompt: Pode mostrar isso em números?\n",
            "Resposta>  **Conscientização ambiental:**\n",
            "\n",
            "* 87% dos brasileiros acreditam que as mudanças climáticas são reais (Pesquisa Datafolha, 2022)\n",
            "* 79% dos brasileiros estão preocupados com o meio ambiente (Pesquisa Ibope, 2021)\n",
            "\n",
            "**Comportamentos sustentáveis individuais:**\n",
            "\n",
            "* 76% dos brasileiros reciclam lixo (Pesquisa CNI/Ibope, 2020)\n",
            "* 65% dos brasileiros reduziram o consumo de energia (Pesquisa CNI/Ibope, 2020)\n",
            "* 58% dos brasileiros usam transporte público (Pesquisa CNT, 2021)\n",
            "\n",
            "**Atitudes em relação às empresas:**\n",
            "\n",
            "* 72% dos brasileiros preferem comprar produtos de empresas sustentáveis (Pesquisa GlobeScan, 2021)\n",
            "* 68% dos brasileiros estão dispostos a pagar mais por produtos sustentáveis (Pesquisa GlobeScan, 2021)\n",
            "\n",
            "**Papel do governo:**\n",
            "\n",
            "* O Brasil é o 8º país do mundo em investimentos em energias renováveis (REN21, 2022)\n",
            "* O Brasil tem o maior programa de biocombustíveis do mundo (Agência Internacional de Energia, 2022)\n",
            "\n",
            "**Desafios:**\n",
            "\n",
            "* O Brasil é um dos países com maior taxa de desmatamento do mundo (Global Forest Resources Assessment, 2020)\n",
            "* O Brasil é o 5º maior emissor de gases de efeito estufa do mundo (Climate Action Tracker, 2022)\n",
            "* A desigualdade social e econômica no Brasil pode dificultar a implementação de práticas sustentáveis para todos os brasileiros (Banco Mundial, 2022)\n",
            "\n",
            "**Conclusão:**\n",
            "\n",
            "Os números mostram que o comportamento cultural das pessoas no Brasil em relação à sustentabilidade está evoluindo positivamente. No entanto, ainda há desafios significativos a serem superados para tornar o país verdadeiramente sustentável. \n",
            "\n",
            "Esperando prompt: fim\n"
          ]
        }
      ]
    },
    {
      "cell_type": "code",
      "source": [
        "\n",
        "#Código disponível em https://ai.google.dev/tutorials/python_quickstart#import_packages\n",
        "import textwrap\n",
        "from IPython.display import display\n",
        "from IPython.display import Markdown\n",
        "\n",
        "def to_markdown(text):\n",
        "  text = text.replace('•', '  *')\n",
        "  return Markdown(textwrap.indent(text, '> ', predicate=lambda _: True))\n",
        "\n",
        "#Imprimindo o histórico\n",
        "for message in chat.history:\n",
        "  display(to_markdown(f'**{message.role}**: {message.parts[0].text}'))\n",
        "  print('-------------------------------------------')"
      ],
      "metadata": {
        "colab": {
          "base_uri": "https://localhost:8080/",
          "height": 1000
        },
        "id": "e7Jo4an3FYwC",
        "outputId": "cacff458-8102-4d18-9e71-0703fc8f9ee7"
      },
      "execution_count": 20,
      "outputs": [
        {
          "output_type": "display_data",
          "data": {
            "text/plain": [
              "<IPython.core.display.Markdown object>"
            ],
            "text/markdown": "> **user**: Qual é a principal ação sustentável?"
          },
          "metadata": {}
        },
        {
          "output_type": "stream",
          "name": "stdout",
          "text": [
            "-------------------------------------------\n"
          ]
        },
        {
          "output_type": "display_data",
          "data": {
            "text/plain": [
              "<IPython.core.display.Markdown object>"
            ],
            "text/markdown": "> **model**: Reduzir a pegada de carbono"
          },
          "metadata": {}
        },
        {
          "output_type": "stream",
          "name": "stdout",
          "text": [
            "-------------------------------------------\n"
          ]
        },
        {
          "output_type": "display_data",
          "data": {
            "text/plain": [
              "<IPython.core.display.Markdown object>"
            ],
            "text/markdown": "> **user**: Quais os principais responsáveis por esta ação?"
          },
          "metadata": {}
        },
        {
          "output_type": "stream",
          "name": "stdout",
          "text": [
            "-------------------------------------------\n"
          ]
        },
        {
          "output_type": "display_data",
          "data": {
            "text/plain": [
              "<IPython.core.display.Markdown object>"
            ],
            "text/markdown": "> **model**: * Indivíduos\n> * Empresas\n> * Governos\n> * Organizações sem fins lucrativos"
          },
          "metadata": {}
        },
        {
          "output_type": "stream",
          "name": "stdout",
          "text": [
            "-------------------------------------------\n"
          ]
        },
        {
          "output_type": "display_data",
          "data": {
            "text/plain": [
              "<IPython.core.display.Markdown object>"
            ],
            "text/markdown": "> **user**: Para que mora no Brasil, como é o comportamento cultural das pessoas referente a sustentabilidade?"
          },
          "metadata": {}
        },
        {
          "output_type": "stream",
          "name": "stdout",
          "text": [
            "-------------------------------------------\n"
          ]
        },
        {
          "output_type": "display_data",
          "data": {
            "text/plain": [
              "<IPython.core.display.Markdown object>"
            ],
            "text/markdown": "> **model**: O comportamento cultural das pessoas no Brasil em relação à sustentabilidade é complexo e varia de acordo com fatores como região, nível socioeconômico e nível de educação. No entanto, algumas tendências gerais podem ser observadas:\n> \n> * **Alta conscientização:** Os brasileiros estão cada vez mais conscientes dos problemas ambientais e da importância da sustentabilidade. Pesquisas mostram que a maioria dos brasileiros acredita que as mudanças climáticas são reais e que é importante tomar medidas para proteger o meio ambiente.\n> * **Comportamentos individuais:** Muitos brasileiros estão adotando comportamentos sustentáveis em suas vidas diárias, como reciclagem, redução do consumo de energia e água, e uso de transporte público. No entanto, ainda há espaço para melhorias, especialmente em áreas como redução do consumo de carne e uso de produtos reutilizáveis.\n> * **Atitudes em relação às empresas:** Os brasileiros estão cada vez mais exigindo que as empresas sejam sustentáveis em suas práticas. Eles estão mais propensos a comprar produtos e serviços de empresas que têm um histórico comprovado de responsabilidade ambiental.\n> * **Papel do governo:** O governo brasileiro tem desempenhado um papel importante na promoção da sustentabilidade. O país tem uma série de políticas e programas voltados para a proteção ambiental, incluindo o Código Florestal Brasileiro e o Programa Nacional de Biocombustíveis.\n> * **Desafios:** Apesar do progresso, o Brasil ainda enfrenta desafios significativos em termos de sustentabilidade. Estes incluem desmatamento, poluição e mudanças climáticas. Além disso, a desigualdade social e econômica pode dificultar a implementação de práticas sustentáveis para todos os brasileiros.\n> \n> Em geral, o comportamento cultural das pessoas no Brasil em relação à sustentabilidade está evoluindo positivamente. No entanto, ainda há muito trabalho a ser feito para tornar o país verdadeiramente sustentável."
          },
          "metadata": {}
        },
        {
          "output_type": "stream",
          "name": "stdout",
          "text": [
            "-------------------------------------------\n"
          ]
        },
        {
          "output_type": "display_data",
          "data": {
            "text/plain": [
              "<IPython.core.display.Markdown object>"
            ],
            "text/markdown": "> **user**: Pode mostrar isso em números?"
          },
          "metadata": {}
        },
        {
          "output_type": "stream",
          "name": "stdout",
          "text": [
            "-------------------------------------------\n"
          ]
        },
        {
          "output_type": "display_data",
          "data": {
            "text/plain": [
              "<IPython.core.display.Markdown object>"
            ],
            "text/markdown": "> **model**: **Conscientização ambiental:**\n> \n> * 87% dos brasileiros acreditam que as mudanças climáticas são reais (Pesquisa Datafolha, 2022)\n> * 79% dos brasileiros estão preocupados com o meio ambiente (Pesquisa Ibope, 2021)\n> \n> **Comportamentos sustentáveis individuais:**\n> \n> * 76% dos brasileiros reciclam lixo (Pesquisa CNI/Ibope, 2020)\n> * 65% dos brasileiros reduziram o consumo de energia (Pesquisa CNI/Ibope, 2020)\n> * 58% dos brasileiros usam transporte público (Pesquisa CNT, 2021)\n> \n> **Atitudes em relação às empresas:**\n> \n> * 72% dos brasileiros preferem comprar produtos de empresas sustentáveis (Pesquisa GlobeScan, 2021)\n> * 68% dos brasileiros estão dispostos a pagar mais por produtos sustentáveis (Pesquisa GlobeScan, 2021)\n> \n> **Papel do governo:**\n> \n> * O Brasil é o 8º país do mundo em investimentos em energias renováveis (REN21, 2022)\n> * O Brasil tem o maior programa de biocombustíveis do mundo (Agência Internacional de Energia, 2022)\n> \n> **Desafios:**\n> \n> * O Brasil é um dos países com maior taxa de desmatamento do mundo (Global Forest Resources Assessment, 2020)\n> * O Brasil é o 5º maior emissor de gases de efeito estufa do mundo (Climate Action Tracker, 2022)\n> * A desigualdade social e econômica no Brasil pode dificultar a implementação de práticas sustentáveis para todos os brasileiros (Banco Mundial, 2022)\n> \n> **Conclusão:**\n> \n> Os números mostram que o comportamento cultural das pessoas no Brasil em relação à sustentabilidade está evoluindo positivamente. No entanto, ainda há desafios significativos a serem superados para tornar o país verdadeiramente sustentável."
          },
          "metadata": {}
        },
        {
          "output_type": "stream",
          "name": "stdout",
          "text": [
            "-------------------------------------------\n"
          ]
        }
      ]
    }
  ]
}